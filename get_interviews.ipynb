{
 "cells": [
  {
   "cell_type": "code",
   "execution_count": 1,
   "metadata": {},
   "outputs": [],
   "source": [
    "import os\n",
    "import json\n",
    "import numpy as np\n",
    "import requests\n",
    "from bs4 import BeautifulSoup"
   ]
  },
  {
   "cell_type": "markdown",
   "metadata": {},
   "source": [
    "# Get Transcripts (~ 20-25 mins)"
   ]
  },
  {
   "cell_type": "code",
   "execution_count": 2,
   "metadata": {},
   "outputs": [],
   "source": [
    "def extract_speech(p_tag):\n",
    "    speaker = p_tag.find('span', class_='speaker')\n",
    "    speech_content = ''.join(str(tag) for tag in speaker.next_siblings)\n",
    "    soup = BeautifulSoup(speech_content, 'html.parser')\n",
    "    return soup.get_text().strip(': ')\n",
    "\n",
    "def get_transcript(base_url, video_link):\n",
    "    url = base_url + video_link\n",
    "    response = requests.get(url)\n",
    "    soup = BeautifulSoup(response.text, 'html.parser')\n",
    "    texts = soup.find_all('p')\n",
    "    transcript = []\n",
    "    speakers = set()\n",
    "    for text in texts:\n",
    "        if text.span is None:\n",
    "            continue\n",
    "        if text.span.get('class')[0] != 'speaker':\n",
    "            continue\n",
    "        speaker = str(text.span.text).strip()\n",
    "        content = extract_speech(text)\n",
    "        if 'Steve Jobs' in speaker or 'SJ' in speaker:\n",
    "            speaker = 'SJ' #standardize for steve jobs, our target\n",
    "        transcript_item = {'speaker': speaker, 'content': content}\n",
    "        transcript.append(transcript_item)\n",
    "        speakers.add(speaker)\n",
    "    if len(speakers) < 2:\n",
    "        return []\n",
    "    return transcript"
   ]
  },
  {
   "cell_type": "code",
   "execution_count": 3,
   "metadata": {},
   "outputs": [
    {
     "name": "stdout",
     "output_type": "stream",
     "text": [
      "71\n"
     ]
    }
   ],
   "source": [
    "base_url = 'https://allaboutstevejobs.com/videos/misc/'\n",
    "response = requests.get(base_url)\n",
    "soup = BeautifulSoup(response.text, 'html.parser')\n",
    "videos = soup.find_all('a', class_='box-link')\n",
    "print(len(videos))\n",
    "video_links = [video.attrs['href'][18:] for video in videos]"
   ]
  },
  {
   "cell_type": "code",
   "execution_count": 4,
   "metadata": {},
   "outputs": [
    {
     "name": "stderr",
     "output_type": "stream",
     "text": [
      "C:\\Users\\ved67\\AppData\\Local\\Temp\\ipykernel_17788\\160887896.py:4: MarkupResemblesLocatorWarning: The input looks more like a filename than markup. You may want to open this file and pass the filehandle into Beautiful Soup.\n",
      "  soup = BeautifulSoup(speech_content, 'html.parser')\n"
     ]
    },
    {
     "name": "stdout",
     "output_type": "stream",
     "text": [
      "8\n"
     ]
    }
   ],
   "source": [
    "transcripts = {}\n",
    "for video_link in video_links:\n",
    "    transcript = get_transcript(base_url, video_link)\n",
    "    if transcript:\n",
    "        transcripts[str(video_link).strip()] = transcript\n",
    "print(len(transcripts))\n",
    "json.dump(transcripts, open('transcripts.json', 'w'))"
   ]
  },
  {
   "cell_type": "markdown",
   "metadata": {},
   "source": [
    "# QA Pairs (~10-15 mins)"
   ]
  },
  {
   "cell_type": "code",
   "execution_count": 9,
   "metadata": {},
   "outputs": [],
   "source": [
    "def get_qa(transcript):\n",
    "    short_qas = []\n",
    "    long_qas = []\n",
    "    all_qas = []\n",
    "    for i in range(1, len(transcript)):\n",
    "        if transcript[i]['speaker'] == 'SJ' and transcript[i-1]['speaker'] != 'SJ':\n",
    "            item = {'question': transcript[i-1]['content'], 'answer': transcript[i]['content']}\n",
    "            if len(transcript[i]['content']) < 100:\n",
    "                short_qas.append(item)\n",
    "            else:\n",
    "                long_qas.append(item)\n",
    "            all_qas.append(item)\n",
    "    return short_qas, long_qas, all_qas"
   ]
  },
  {
   "cell_type": "code",
   "execution_count": 11,
   "metadata": {},
   "outputs": [],
   "source": [
    "short_qa_pairs = {}\n",
    "long_qa_pairs = {}\n",
    "all_qa_pairs = {}\n",
    "transcripts = json.load(open('transcripts.json'))\n",
    "for video, transcript in transcripts.items():\n",
    "    short_qas, long_qas, all_qas = get_qa(transcript)\n",
    "    short_qa_pairs[video] = short_qas\n",
    "    long_qa_pairs[video] = long_qas\n",
    "    all_qa_pairs[video] = all_qas #in order\n",
    "\n",
    "json.dump(short_qa_pairs, open('short_qa_pairs.json', 'w'))\n",
    "json.dump(long_qa_pairs, open('long_qa_pairs.json', 'w'))\n",
    "json.dump(all_qa_pairs, open('all_qa_pairs.json', 'w'))"
   ]
  },
  {
   "cell_type": "code",
   "execution_count": 16,
   "metadata": {},
   "outputs": [
    {
     "name": "stdout",
     "output_type": "stream",
     "text": [
      "108\n"
     ]
    }
   ],
   "source": [
    "#basic filtering on qa pairs for some decent quality\n",
    "useful_qa_pairs = []\n",
    "for video, qas in long_qa_pairs.items():\n",
    "    for qa in qas:\n",
    "        if qa['question'][-1] == '?':\n",
    "            useful_qa_pairs.append((qa, video))\n",
    "print(len(useful_qa_pairs))\n",
    "json.dump(useful_qa_pairs, open('useful_qa_pairs.json', 'w'))"
   ]
  }
 ],
 "metadata": {
  "kernelspec": {
   "display_name": "Python 3",
   "language": "python",
   "name": "python3"
  },
  "language_info": {
   "codemirror_mode": {
    "name": "ipython",
    "version": 3
   },
   "file_extension": ".py",
   "mimetype": "text/x-python",
   "name": "python",
   "nbconvert_exporter": "python",
   "pygments_lexer": "ipython3",
   "version": "3.10.8"
  }
 },
 "nbformat": 4,
 "nbformat_minor": 2
}
